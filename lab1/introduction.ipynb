{
 "cells": [
  {
   "cell_type": "markdown",
   "metadata": {
    "collapsed": true,
    "pycharm": {
     "name": "#%% md\n"
    }
   },
   "source": [
    "# Introduction\n",
    "\n",
    "This notebook is made to introduce you into computer vision world!\n",
    "Today we will learn how to:\n",
    " - import image to python\n",
    " - capture camera\n",
    " - OpenCV basics"
   ]
  },
  {
   "cell_type": "markdown",
   "metadata": {
    "pycharm": {
     "name": "#%% md\n"
    }
   },
   "source": [
    "### First things first, let's see if your environment works\n",
    "Run code cell below"
   ]
  },
  {
   "cell_type": "code",
   "execution_count": null,
   "metadata": {
    "pycharm": {
     "name": "#%%\n"
    }
   },
   "outputs": [],
   "source": [
    "import cv2\n",
    "import matplotlib.pyplot as plt\n",
    "\n",
    "print(cv2.version.opencv_version)"
   ]
  },
  {
   "cell_type": "markdown",
   "metadata": {},
   "source": [
    "Looks good :D\n"
   ]
  },
  {
   "cell_type": "markdown",
   "metadata": {
    "pycharm": {
     "name": "#%% md\n"
    }
   },
   "source": [
    "### Getting image\n",
    "\n",
    "Most of time we will need data to work on, so we have to get it somehow.\n",
    "In order to get image into python we can use **OpenCV** module.\n"
   ]
  },
  {
   "cell_type": "code",
   "execution_count": null,
   "metadata": {
    "pycharm": {
     "name": "#%%\n"
    }
   },
   "outputs": [],
   "source": [
    "IMAGE_PATH = \"./images/spiral.jpg\"\n",
    "img = cv2.imread(IMAGE_PATH)"
   ]
  },
  {
   "cell_type": "markdown",
   "metadata": {
    "pycharm": {
     "name": "#%% md\n"
    }
   },
   "source": [
    "Let's print our beautiful image!"
   ]
  },
  {
   "cell_type": "code",
   "execution_count": null,
   "metadata": {
    "pycharm": {
     "name": "#%%\n"
    }
   },
   "outputs": [],
   "source": [
    "print(img)"
   ]
  },
  {
   "cell_type": "markdown",
   "metadata": {
    "pycharm": {
     "name": "#%% md\n"
    }
   },
   "source": [
    "Oh wait, what the *!?&\n",
    "Why our image turned into numbers??"
   ]
  },
  {
   "cell_type": "markdown",
   "metadata": {
    "pycharm": {
     "name": "#%% md\n"
    }
   },
   "source": [
    "Well, every image is just an array of numbers (pixels) from **[0 .. 255]**\n",
    "First dimension stands for **height**"
   ]
  },
  {
   "cell_type": "code",
   "execution_count": null,
   "metadata": {
    "pycharm": {
     "name": "#%%\n"
    }
   },
   "outputs": [],
   "source": [
    "img_height = img.shape[0]\n",
    "img_height"
   ]
  },
  {
   "cell_type": "markdown",
   "metadata": {
    "pycharm": {
     "name": "#%% md\n"
    }
   },
   "source": [
    "Second one for **width**\n"
   ]
  },
  {
   "cell_type": "code",
   "execution_count": null,
   "metadata": {
    "pycharm": {
     "name": "#%%\n"
    }
   },
   "outputs": [],
   "source": [
    "img_width = img.shape[1]\n",
    "img_width"
   ]
  },
  {
   "cell_type": "markdown",
   "metadata": {
    "pycharm": {
     "name": "#%% md\n"
    }
   },
   "source": [
    "The third one is pixel\n",
    "**REMEMBER** in OpenCV order of colors is BGR\n"
   ]
  },
  {
   "cell_type": "code",
   "execution_count": null,
   "metadata": {
    "pycharm": {
     "name": "#%%\n"
    }
   },
   "outputs": [],
   "source": [
    "some_pixel = img[0, 10]\n",
    "some_pixel"
   ]
  },
  {
   "cell_type": "markdown",
   "metadata": {
    "pycharm": {
     "name": "#%% md\n"
    }
   },
   "source": [
    "Now we can actually see our image :)\n",
    "we do this via **matplotlib** module"
   ]
  },
  {
   "cell_type": "code",
   "execution_count": null,
   "metadata": {
    "pycharm": {
     "name": "#%%\n"
    }
   },
   "outputs": [],
   "source": [
    "plt.imshow(img)\n",
    "plt.axis('off')\n",
    "plt.show()"
   ]
  },
  {
   "cell_type": "markdown",
   "metadata": {
    "pycharm": {
     "name": "#%% md\n"
    }
   },
   "source": [
    "### Now let's try to capture our camera\n",
    "\n",
    "Run *capture_camera.py*"
   ]
  },
  {
   "cell_type": "markdown",
   "metadata": {
    "pycharm": {
     "name": "#%% md\n"
    }
   },
   "source": [
    "### 1. Exercise\n",
    "\n",
    "Today we have two exercises and this is the first one!\n",
    "You have to complete the function below so that it returns the image\n",
    "with only one color!\n"
   ]
  },
  {
   "cell_type": "code",
   "execution_count": null,
   "metadata": {
    "pycharm": {
     "name": "#%%\n"
    }
   },
   "outputs": [],
   "source": [
    "def get_one_color(image : list,\n",
    "                  color : int) -> list:\n",
    "    \"\"\"\n",
    "    :param image: input image\n",
    "    :param color: color as integer:\n",
    "                  BLUE = 0\n",
    "                  GREEN = 1\n",
    "                  RED = 2\n",
    "    :return: image with only one color\n",
    "    \"\"\"\n",
    "\n",
    "    raise NotImplementedError(\"Implement get_one_color function!\")"
   ]
  },
  {
   "cell_type": "markdown",
   "metadata": {
    "pycharm": {
     "name": "#%% md\n"
    }
   },
   "source": [
    "Check your implementation"
   ]
  },
  {
   "cell_type": "code",
   "execution_count": null,
   "metadata": {
    "pycharm": {
     "name": "#%%\n"
    }
   },
   "outputs": [],
   "source": [
    "BLUE = 0\n",
    "GREEN = 1\n",
    "RED = 2\n",
    "\n",
    "plt.figure(figsize=(20, 20))\n",
    "plt.subplot(311)\n",
    "one_color_img = get_one_color(img, color=BLUE)\n",
    "plt.imshow(one_color_img, cmap='gray')\n",
    "plt.axis('off')\n",
    "plt.subplot(312)\n",
    "one_color_img = get_one_color(img, color=GREEN)\n",
    "plt.imshow(one_color_img, cmap='gray')\n",
    "plt.axis('off')\n",
    "plt.subplot(313)\n",
    "one_color_img = get_one_color(img, color=RED)\n",
    "plt.imshow(one_color_img, cmap='gray')\n",
    "plt.axis('off')\n",
    "plt.show()"
   ]
  },
  {
   "cell_type": "markdown",
   "metadata": {
    "pycharm": {
     "name": "#%% md\n"
    }
   },
   "source": [
    "### 2. Exercise\n",
    "\n",
    "Now you have to complete function, that converts BGR image to grayscale.\n",
    "\n",
    "*Hint:*\n",
    "You may need this equation for new pixel\n",
    "\n",
    "$ Greyscale = R + G + B / 3$"
   ]
  },
  {
   "cell_type": "code",
   "execution_count": null,
   "metadata": {
    "pycharm": {
     "name": "#%%\n"
    }
   },
   "outputs": [],
   "source": [
    "def color_to_gray(image : list) -> list:\n",
    "    \"\"\"\n",
    "    :param image: Input image\n",
    "    :return Image converted to grayscale\n",
    "    \"\"\"\n",
    "\n",
    "    raise NotImplementedError(\"Implement color_to_gray function!\")"
   ]
  },
  {
   "cell_type": "markdown",
   "metadata": {
    "pycharm": {
     "name": "#%% md\n"
    }
   },
   "source": [
    "Check your function"
   ]
  },
  {
   "cell_type": "code",
   "execution_count": null,
   "metadata": {
    "pycharm": {
     "name": "#%%\n"
    }
   },
   "outputs": [],
   "source": [
    "grayscale_image = color_to_gray(img)\n",
    "\n",
    "plt.imshow(img, cmap=\"gray\")\n",
    "plt.axis('off')\n",
    "plt.show()"
   ]
  },
  {
   "cell_type": "markdown",
   "metadata": {
    "pycharm": {
     "name": "#%% md\n"
    }
   },
   "source": [
    "Yaaaaaaaaaay! You did it!"
   ]
  },
  {
   "cell_type": "markdown",
   "metadata": {
    "pycharm": {
     "name": "#%% md\n"
    }
   },
   "source": [
    "### Grayscale in OpenCV\n",
    "Your *color_to_gray* function is cute but unfortunately we will be using\n",
    "OpenCV to convert image colors by *cv2.cvtColor* method.\n"
   ]
  },
  {
   "cell_type": "code",
   "execution_count": null,
   "metadata": {
    "pycharm": {
     "name": "#%%\n"
    }
   },
   "outputs": [],
   "source": [
    "grayscale_cv2_image = cv2.cvtColor(img, cv2.COLOR_BGR2GRAY)\n",
    "\n",
    "plt.imshow(grayscale_cv2_image, cmap=\"gray\")\n",
    "plt.axis(\"off\")\n",
    "plt.show()"
   ]
  },
  {
   "cell_type": "markdown",
   "metadata": {},
   "source": [
    "# Kernels "
   ]
  },
  {
   "cell_type": "markdown",
   "metadata": {},
   "source": [
    "How does kernel work? \n",
    "\n",
    "### $ \\\n",
    "g(x, y) = \\omega * f(x,y) = \\sum_{dx=-a}^{a} \\sum_{dy=-b}^b \\omega(dx, dy)f(x + dx, y + dy)\\\\\n",
    "where: \\\\\n",
    "f \\to image \\\\\n",
    "g \\to filtered \\ image \\\\\n",
    "\\omega \\to kernel \\\\\n",
    "\\omega_{{a}\\times{b}} = \\begin{bmatrix} \\omega_{1,1} & ... & \\omega_{1,b} \\\\ . & . & . \\\\ \\omega_{a,1} & . & \\omega_{a,b} \\end{bmatrix}\\\n",
    "$  \n"
   ]
  },
  {
   "cell_type": "markdown",
   "metadata": {},
   "source": [
    "![SegmentLocal](images/kernel.gif \"segment\") "
   ]
  },
  {
   "cell_type": "markdown",
   "metadata": {},
   "source": [
    "### 3. Exercise\n",
    "Implement *apply_kernel* function below "
   ]
  },
  {
   "cell_type": "code",
   "execution_count": null,
   "metadata": {},
   "outputs": [],
   "source": [
    "import numpy as np\n",
    "\n",
    "def apply_kernel(img, kernel):\n",
    "    \"\"\"\n",
    "    :param image: input image\n",
    "    :param kernel: kernel as numpy array \n",
    "    :return: filtered image\n",
    "    \"\"\"\n",
    "\n",
    "    raise NotImplementedError(\"Implement apply_kernel function!\")\n",
    "    "
   ]
  },
  {
   "cell_type": "code",
   "execution_count": null,
   "metadata": {},
   "outputs": [],
   "source": [
    "kernel = np.array([[0, 1, 0],\n",
    "                   [0, 1, 0],\n",
    "                   [0, 1, 0]])\n",
    "\n",
    "filtered_img = apply_kernel(img=grayscale_cv2_image,\n",
    "                           kernel=kernel)\n",
    "plt.imshow(filtered_img, cmap='gray')\n",
    "plt.axis('off')\n",
    "plt.show()"
   ]
  },
  {
   "cell_type": "code",
   "execution_count": null,
   "metadata": {},
   "outputs": [],
   "source": [
    "filtered_img = cv2.filter2D(grayscale_cv2_image, -1, kernel)\n",
    "\n",
    "plt.imshow(filtered_img, cmap='gray')\n",
    "plt.axis('off')\n",
    "plt.show()"
   ]
  }
 ],
 "metadata": {
  "kernelspec": {
   "display_name": "Python 3",
   "language": "python",
   "name": "python3"
  },
  "language_info": {
   "codemirror_mode": {
    "name": "ipython",
    "version": 3
   },
   "file_extension": ".py",
   "mimetype": "text/x-python",
   "name": "python",
   "nbconvert_exporter": "python",
   "pygments_lexer": "ipython3",
   "version": "3.8.6"
  }
 },
 "nbformat": 4,
 "nbformat_minor": 1
}
